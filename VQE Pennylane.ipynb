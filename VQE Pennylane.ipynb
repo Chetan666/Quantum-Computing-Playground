{
 "cells": [
  {
   "cell_type": "markdown",
   "id": "97c7dc5d",
   "metadata": {},
   "source": [
    "This code is to find the lowest eigenvalue of the matrix\n",
    "\n",
    "$$U=\n",
    "\\begin{bmatrix}\n",
    "1 & 0 & 0 & 0 \\\\\n",
    "0 & 0 & -1 & 0\\\\\n",
    "0 & -1 & 0 & 0\\\\\n",
    "0 & 0 & 0 & 1\n",
    "\\end{bmatrix}\n",
    "$$\n",
    "\n",
    "using the VQE algorithm.\n",
    "\n",
    "We define a simple variational ansatz using rotation gates (RY) and a CNOT gate. This is a parametrized quantum circuit.\n",
    "\n",
    "We use a 2-qubit quantum device (default.qubit).\n",
    "\n",
    "The cost function computes the expectation value of the Hermitian observable 𝐻.\n",
    "\n",
    "We use a gradient descent optimizer to minimize the cost function and find the optimal parameters that give the lowest eigenvalue of U.\n",
    "\n",
    "We track the energy values during optimization and plot the convergence of the energy.\n",
    "\n",
    "Lastly we compare it with analytical calcualtion of the eigenvalues and see that the value matches very closely with the lowest eigenvalue.\n",
    "\n",
    "Compare this code with the VQE Qiskit code on your github."
   ]
  },
  {
   "cell_type": "code",
   "execution_count": 25,
   "id": "ca617400",
   "metadata": {},
   "outputs": [
    {
     "name": "stdout",
     "output_type": "stream",
     "text": [
      "Step = 0,  Energy = 0.11605773,  Convergence parameter = 0.14799849\n",
      "Step = 10,  Energy = -0.10625805,  Convergence parameter = 0.03704090\n",
      "Step = 20,  Energy = -0.99455079,  Convergence parameter = 0.00936440\n",
      "\n",
      "Final value of the ground-state energy = -0.99999944\n",
      "Optimal parameters:  [-1.57004805e+00  7.48090028e-04  1.63746336e+00  1.50412790e+00]\n"
     ]
    },
    {
     "data": {
      "image/png": "[encoded data removed]",
      "text/plain": [
       "<Figure size 432x288 with 1 Axes>"
      ]
     },
     "metadata": {
      "needs_background": "light"
     },
     "output_type": "display_data"
    }
   ],
   "source": [
    "import pennylane as qml\n",
    "from pennylane import numpy as np\n",
    "\n",
    "# Define the unitary matrix U as a Hermitian observable\n",
    "U = np.array([[1, 0, 0, 0],\n",
    "              [0, 0, -1, 0],\n",
    "              [0, -1, 0, 0],\n",
    "              [0, 0, 0, 1]])\n",
    "\n",
    "# The matrix U is not Hermitian, but since VQE deals with Hermitian operators, \n",
    "# we need to construct a Hermitian observable that encodes the eigenvalues of U.\n",
    "H = qml.Hermitian(U, wires=[0, 1])\n",
    "\n",
    "# Define a 2-qubit quantum device\n",
    "dev = qml.device('default.qubit', wires=2)\n",
    "\n",
    "# Define a variational ansatz circuit\n",
    "def variational_ansatz(params):\n",
    "    qml.RY(params[0], wires=0)\n",
    "    qml.RY(params[1], wires=1)\n",
    "    qml.CNOT(wires=[0, 1])\n",
    "    qml.RY(params[2], wires=0)\n",
    "    qml.RY(params[3], wires=1)\n",
    "\n",
    "# Define the cost function\n",
    "@qml.qnode(dev)\n",
    "def cost(params):\n",
    "    variational_ansatz(params)\n",
    "    return qml.expval(H)\n",
    "\n",
    "# Initialize the parameters\n",
    "np.random.seed(42)\n",
    "params = np.random.random(4)\n",
    "\n",
    "# Choose an optimizer\n",
    "opt = qml.GradientDescentOptimizer(stepsize=0.4)\n",
    "\n",
    "# Number of optimization steps\n",
    "max_iterations = 100\n",
    "conv_tol = 1e-06\n",
    "\n",
    "# Store the values of the cost function\n",
    "energy = []\n",
    "\n",
    "# Optimization loop\n",
    "for n in range(max_iterations):\n",
    "    params, prev_cost = opt.step_and_cost(cost, params)\n",
    "    current_cost = cost(params)\n",
    "    energy.append(current_cost)\n",
    "    conv = np.abs(current_cost - prev_cost)\n",
    "\n",
    "    if n % 10 == 0:\n",
    "        print(f\"Step = {n},  Energy = {current_cost:.8f},  Convergence parameter = {conv:.8f}\")\n",
    "\n",
    "    if conv <= conv_tol:\n",
    "        break\n",
    "\n",
    "print(\"\\nFinal value of the ground-state energy = {:.8f}\".format(current_cost))\n",
    "print(\"Optimal parameters: \", params)\n",
    "\n",
    "# Plot the energy convergence\n",
    "import matplotlib.pyplot as plt\n",
    "plt.plot(energy)\n",
    "plt.xlabel(\"Step\")\n",
    "plt.ylabel(\"Energy\")\n",
    "plt.title(\"Energy Convergence\")\n",
    "plt.show()\n"
   ]
  },
  {
   "cell_type": "code",
   "execution_count": 26,
   "id": "f539cc11",
   "metadata": {},
   "outputs": [
    {
     "name": "stdout",
     "output_type": "stream",
     "text": [
      "Eigenvalues of the matrix U:\n",
      "[ 1. -1.  1.  1.]\n"
     ]
    }
   ],
   "source": [
    "# Find eigenvalues\n",
    "eigenvalues, _ = np.linalg.eig(U)\n",
    "\n",
    "# Print the eigenvalues\n",
    "print(\"Eigenvalues of the matrix U:\")\n",
    "print(eigenvalues)\n"
   ]
  },
  {
   "cell_type": "code",
   "execution_count": null,
   "id": "e1174f78",
   "metadata": {},
   "outputs": [],
   "source": []
  }
 ],
 "metadata": {
  "kernelspec": {
   "display_name": "Python 3 (ipykernel)",
   "language": "python",
   "name": "python3"
  },
  "language_info": {
   "codemirror_mode": {
    "name": "ipython",
    "version": 3
   },
   "file_extension": ".py",
   "mimetype": "text/x-python",
   "name": "python",
   "nbconvert_exporter": "python",
   "pygments_lexer": "ipython3",
   "version": "3.10.5"
  }
 },
 "nbformat": 4,
 "nbformat_minor": 5
}
